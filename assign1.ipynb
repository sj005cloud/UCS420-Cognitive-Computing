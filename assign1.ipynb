{
 "cells": [
  {
   "cell_type": "code",
   "execution_count": 1,
   "id": "5306285f",
   "metadata": {},
   "outputs": [
    {
     "name": "stdout",
     "output_type": "stream",
     "text": [
      "sara joshi\n",
      "sara joshi\n",
      "sara joshi\n"
     ]
    }
   ],
   "source": [
    "for i in range(3):\n",
    "    print('sara joshi')"
   ]
  },
  {
   "cell_type": "code",
   "execution_count": 2,
   "id": "704e47fd",
   "metadata": {},
   "outputs": [
    {
     "name": "stdout",
     "output_type": "stream",
     "text": [
      "Sum of  2 + 3 + 5 = 10\n"
     ]
    }
   ],
   "source": [
    "a=2\n",
    "b=3\n",
    "c=5\n",
    "print(\"Sum of \",a,'+',b,'+',c,'=',a+b+c)"
   ]
  },
  {
   "cell_type": "code",
   "execution_count": 3,
   "id": "7af7584c",
   "metadata": {},
   "outputs": [
    {
     "name": "stdout",
     "output_type": "stream",
     "text": [
      "myself + sara + joshi = myself sara joshi\n"
     ]
    }
   ],
   "source": [
    "a='myself'\n",
    "b='sara'\n",
    "c='joshi'\n",
    "print(a,'+',b,'+',c,'=',a+' '+b+' '+c)"
   ]
  },
  {
   "cell_type": "code",
   "execution_count": 4,
   "id": "c5f20d0d",
   "metadata": {},
   "outputs": [
    {
     "name": "stdout",
     "output_type": "stream",
     "text": [
      "7 * 1 = 7\n",
      "7 * 2 = 14\n",
      "7 * 3 = 21\n",
      "7 * 4 = 28\n",
      "7 * 5 = 35\n",
      "7 * 6 = 42\n",
      "7 * 7 = 49\n",
      "7 * 8 = 56\n",
      "7 * 9 = 63\n",
      "7 * 10 = 70\n"
     ]
    }
   ],
   "source": [
    "x=7\n",
    "for i in range(1,11):\n",
    "    print(x,'*',i,'=',x*i)"
   ]
  },
  {
   "cell_type": "code",
   "execution_count": 5,
   "id": "057ad225",
   "metadata": {},
   "outputs": [
    {
     "name": "stdout",
     "output_type": "stream",
     "text": [
      "9 * 1 = 9\n",
      "9 * 2 = 18\n",
      "9 * 3 = 27\n",
      "9 * 4 = 36\n",
      "9 * 5 = 45\n",
      "9 * 6 = 54\n",
      "9 * 7 = 63\n",
      "9 * 8 = 72\n",
      "9 * 9 = 81\n",
      "9 * 10 = 90\n"
     ]
    }
   ],
   "source": [
    "x=9\n",
    "for i in range(1,11):\n",
    "    print(x,'*',i,'=',x*i)\n",
    "    "
   ]
  },
  {
   "cell_type": "code",
   "execution_count": 6,
   "id": "01c672b9",
   "metadata": {},
   "outputs": [
    {
     "name": "stdout",
     "output_type": "stream",
     "text": [
      "4 * 1 = 4\n",
      "4 * 2 = 8\n",
      "4 * 3 = 12\n",
      "4 * 4 = 16\n",
      "4 * 5 = 20\n",
      "4 * 6 = 24\n",
      "4 * 7 = 28\n",
      "4 * 8 = 32\n",
      "4 * 9 = 36\n",
      "4 * 10 = 40\n"
     ]
    }
   ],
   "source": [
    "x=int(input('enter a number:'))\n",
    "for i in range(1,11):\n",
    "    print(x,'*',i,'=',x*i)\n",
    "    "
   ]
  },
  {
   "cell_type": "code",
   "execution_count": 7,
   "id": "ea999c4b",
   "metadata": {},
   "outputs": [
    {
     "name": "stdout",
     "output_type": "stream",
     "text": [
      "21\n"
     ]
    }
   ],
   "source": [
    "sum=0\n",
    "n=int(input('Enter a number:'))\n",
    "for i in range(1,n+1):\n",
    "    sum+=i\n",
    "print(sum)"
   ]
  },
  {
   "cell_type": "code",
   "execution_count": 8,
   "id": "25ca84f3",
   "metadata": {},
   "outputs": [
    {
     "name": "stdout",
     "output_type": "stream",
     "text": [
      "14 is greater\n"
     ]
    }
   ],
   "source": [
    "a=int(input('enter a number:'))\n",
    "b=int(input('enter a number:'))\n",
    "c=int(input('enter a number:'))\n",
    "if(a>max(b,c)):\n",
    "    print(a,'is greater')\n",
    "else:\n",
    "    print(max(b,c),'is greater')"
   ]
  },
  {
   "cell_type": "code",
   "execution_count": 9,
   "id": "1cc8653f",
   "metadata": {},
   "outputs": [
    {
     "name": "stdout",
     "output_type": "stream",
     "text": [
      "0\n"
     ]
    }
   ],
   "source": [
    "sum=0\n",
    "a=int(input('enter a number:'))\n",
    "for i in range(1,a):\n",
    "    if(i%63==0):\n",
    "       sum+=i\n",
    "print(sum)"
   ]
  },
  {
   "cell_type": "code",
   "execution_count": 10,
   "id": "fd43945f",
   "metadata": {},
   "outputs": [
    {
     "name": "stdout",
     "output_type": "stream",
     "text": [
      "10\n"
     ]
    }
   ],
   "source": [
    "sum=0\n",
    "n=int(input('Enter a number:'))\n",
    "for i in range(2,n+1):\n",
    "    is_prime=True\n",
    "    for j in range(2,int(i**0.5)+1):\n",
    "        if(i%j==0):\n",
    "            is_prime=False\n",
    "            break\n",
    "    if(is_prime==True):\n",
    "        sum+=i\n",
    "print(sum)"
   ]
  },
  {
   "cell_type": "code",
   "execution_count": 11,
   "id": "8a0ae823",
   "metadata": {},
   "outputs": [
    {
     "name": "stdout",
     "output_type": "stream",
     "text": [
      "sum of odd numbers from 1 to 3 is 4\n"
     ]
    }
   ],
   "source": [
    "def odd_sum(n):\n",
    "    sum=0\n",
    "    for i in range(1,n+1):\n",
    "        if(i%2!=0):\n",
    "            sum+=i\n",
    "    return sum\n",
    "n=int(input('enter any number:'))\n",
    "print('sum of odd numbers from 1 to',n,'is',odd_sum(n))"
   ]
  },
  {
   "cell_type": "code",
   "execution_count": 12,
   "id": "4b597c20",
   "metadata": {},
   "outputs": [
    {
     "name": "stdout",
     "output_type": "stream",
     "text": [
      "sum of all prime numbers upto 34 is 160\n"
     ]
    }
   ],
   "source": [
    "def prime_sum(n):\n",
    "    sum=0\n",
    "    for i in range(2,n+1):\n",
    "        is_prime=True\n",
    "        for j in range(2,int(i**0.5)+1):\n",
    "            if(i%j==0):\n",
    "                is_prime=False\n",
    "                break\n",
    "        if(is_prime==True):\n",
    "            sum+=i\n",
    "    print(\"sum of all prime numbers upto\",n,'is',sum)\n",
    "n=int(input('Enter a number:'))   \n",
    "prime_sum(n)"
   ]
  }
 ],
 "metadata": {
  "kernelspec": {
   "display_name": "Python 3 (ipykernel)",
   "language": "python",
   "name": "python3"
  },
  "language_info": {
   "codemirror_mode": {
    "name": "ipython",
    "version": 3
   },
   "file_extension": ".py",
   "mimetype": "text/x-python",
   "name": "python",
   "nbconvert_exporter": "python",
   "pygments_lexer": "ipython3",
   "version": "3.11.4"
  }
 },
 "nbformat": 4,
 "nbformat_minor": 5
}

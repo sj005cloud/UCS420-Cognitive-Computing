{
 "cells": [
  {
   "cell_type": "code",
   "execution_count": 10,
   "id": "374b5511",
   "metadata": {},
   "outputs": [
    {
     "name": "stderr",
     "output_type": "stream",
     "text": [
      "WARNING: Skipping chatterbot as it is not installed.\n"
     ]
    },
    {
     "name": "stdout",
     "output_type": "stream",
     "text": [
      "Found existing installation: chatterbot-corpus 1.2.2\n",
      "Uninstalling chatterbot-corpus-1.2.2:\n",
      "  Successfully uninstalled chatterbot-corpus-1.2.2\n",
      "Collecting git+https://github.com/gunthercox/ChatterBot.git@master\n",
      "  Cloning https://github.com/gunthercox/ChatterBot.git (to revision master) to c:\\users\\saraj\\appdata\\local\\temp\\pip-req-build-fgb8orwv\n",
      "  Resolved https://github.com/gunthercox/ChatterBot.git to commit bb613124fc9950843e61a89f923bf874d067c61d\n",
      "  Installing build dependencies: started\n",
      "  Installing build dependencies: finished with status 'done'\n",
      "  Getting requirements to build wheel: started\n",
      "  Getting requirements to build wheel: finished with status 'done'\n",
      "  Preparing metadata (pyproject.toml): started\n",
      "  Preparing metadata (pyproject.toml): finished with status 'done'\n",
      "Collecting mathparse<0.2,>=0.1 (from ChatterBot==1.2.7)\n",
      "  Using cached mathparse-0.1.2-py3-none-any.whl.metadata (776 bytes)\n",
      "Requirement already satisfied: python-dateutil<2.10,>=2.9 in c:\\users\\saraj\\appdata\\local\\programs\\python\\python313\\lib\\site-packages (from ChatterBot==1.2.7) (2.9.0.post0)\n",
      "Collecting sqlalchemy<2.1,>=2.0 (from ChatterBot==1.2.7)\n",
      "  Using cached sqlalchemy-2.0.40-cp313-cp313-win_amd64.whl.metadata (9.9 kB)\n",
      "Collecting spacy<3.9,>=3.8 (from ChatterBot==1.2.7)\n",
      "  Using cached spacy-3.8.2.tar.gz (1.3 MB)\n",
      "  Installing build dependencies: started\n",
      "  Installing build dependencies: still running...\n",
      "  Installing build dependencies: finished with status 'error'\n"
     ]
    },
    {
     "name": "stderr",
     "output_type": "stream",
     "text": [
      "  Running command git clone --filter=blob:none --quiet https://github.com/gunthercox/ChatterBot.git 'C:\\Users\\saraj\\AppData\\Local\\Temp\\pip-req-build-fgb8orwv'\n",
      "  error: subprocess-exited-with-error\n",
      "  \n",
      "  × pip subprocess to install build dependencies did not run successfully.\n",
      "  │ exit code: 1\n",
      "  ╰─> [61 lines of output]\n",
      "      Ignoring numpy: markers 'python_version < \"3.9\"' don't match your environment\n",
      "      Collecting setuptools\n",
      "        Using cached setuptools-80.3.1-py3-none-any.whl.metadata (6.5 kB)\n",
      "      Collecting cython<3.0,>=0.25\n",
      "        Using cached Cython-0.29.37-py2.py3-none-any.whl.metadata (3.1 kB)\n",
      "      Collecting cymem<2.1.0,>=2.0.2\n",
      "        Using cached cymem-2.0.11-cp313-cp313-win_amd64.whl.metadata (8.8 kB)\n",
      "      Collecting preshed<3.1.0,>=3.0.2\n",
      "        Using cached preshed-3.0.9.tar.gz (14 kB)\n",
      "        Installing build dependencies: started\n",
      "        Installing build dependencies: finished with status 'done'\n",
      "        Getting requirements to build wheel: started\n",
      "        Getting requirements to build wheel: finished with status 'done'\n",
      "        Preparing metadata (pyproject.toml): started\n",
      "        Preparing metadata (pyproject.toml): finished with status 'done'\n",
      "      Collecting murmurhash<1.1.0,>=0.28.0\n",
      "        Using cached murmurhash-1.0.12-cp313-cp313-win_amd64.whl.metadata (2.2 kB)\n",
      "      Collecting thinc<8.4.0,>=8.3.0\n",
      "        Using cached thinc-8.3.6-cp313-cp313-win_amd64.whl.metadata (15 kB)\n",
      "      Collecting numpy<2.1.0,>=2.0.0\n",
      "        Using cached numpy-2.0.2.tar.gz (18.9 MB)\n",
      "        Installing build dependencies: started\n",
      "        Installing build dependencies: finished with status 'done'\n",
      "        Getting requirements to build wheel: started\n",
      "        Getting requirements to build wheel: finished with status 'done'\n",
      "        Preparing metadata (pyproject.toml): started\n",
      "        Preparing metadata (pyproject.toml): finished with status 'error'\n",
      "        error: subprocess-exited-with-error\n",
      "      \n",
      "        Ã— Preparing metadata (pyproject.toml) did not run successfully.\n",
      "        â”‚ exit code: 1\n",
      "        â•°â”€> [19 lines of output]\n",
      "            + C:\\Users\\saraj\\AppData\\Local\\Programs\\Python\\Python313\\python.exe C:\\Users\\saraj\\AppData\\Local\\Temp\\pip-install-5ui29cf0\\numpy_0c6148b4bc8243c389cfc2f2ccae5f27\\vendored-meson\\meson\\meson.py setup C:\\Users\\saraj\\AppData\\Local\\Temp\\pip-install-5ui29cf0\\numpy_0c6148b4bc8243c389cfc2f2ccae5f27 C:\\Users\\saraj\\AppData\\Local\\Temp\\pip-install-5ui29cf0\\numpy_0c6148b4bc8243c389cfc2f2ccae5f27\\.mesonpy-1ta981nh -Dbuildtype=release -Db_ndebug=if-release -Db_vscrt=md --native-file=C:\\Users\\saraj\\AppData\\Local\\Temp\\pip-install-5ui29cf0\\numpy_0c6148b4bc8243c389cfc2f2ccae5f27\\.mesonpy-1ta981nh\\meson-python-native-file.ini\n",
      "            The Meson build system\n",
      "            Version: 1.4.99\n",
      "            Source dir: C:\\Users\\saraj\\AppData\\Local\\Temp\\pip-install-5ui29cf0\\numpy_0c6148b4bc8243c389cfc2f2ccae5f27\n",
      "            Build dir: C:\\Users\\saraj\\AppData\\Local\\Temp\\pip-install-5ui29cf0\\numpy_0c6148b4bc8243c389cfc2f2ccae5f27\\.mesonpy-1ta981nh\n",
      "            Build type: native build\n",
      "            Project name: NumPy\n",
      "            Project version: 2.0.2\n",
      "            C compiler for the host machine: gcc (gcc 6.3.0 \"gcc (MinGW.org GCC-6.3.0-1) 6.3.0\")\n",
      "            C linker for the host machine: gcc ld.bfd 2.28\n",
      "            C++ compiler for the host machine: c++ (gcc 6.3.0 \"c++ (MinGW.org GCC-6.3.0-1) 6.3.0\")\n",
      "            C++ linker for the host machine: c++ ld.bfd 2.28\n",
      "            Cython compiler for the host machine: cython (cython 3.0.12)\n",
      "            Host machine cpu family: x86\n",
      "            Host machine cpu: x86\n",
      "      \n",
      "            ..\\meson.build:28:4: ERROR: Problem encountered: NumPy requires GCC >= 8.4\n",
      "      \n",
      "            A full log can be found at C:\\Users\\saraj\\AppData\\Local\\Temp\\pip-install-5ui29cf0\\numpy_0c6148b4bc8243c389cfc2f2ccae5f27\\.mesonpy-1ta981nh\\meson-logs\\meson-log.txt\n",
      "            [end of output]\n",
      "      \n",
      "        note: This error originates from a subprocess, and is likely not a problem with pip.\n",
      "      error: metadata-generation-failed\n",
      "      \n",
      "      Ã— Encountered error while generating package metadata.\n",
      "      â•°â”€> See above for output.\n",
      "      \n",
      "      note: This is an issue with the package mentioned above, not pip.\n",
      "      hint: See above for details.\n",
      "      [end of output]\n",
      "  \n",
      "  note: This error originates from a subprocess, and is likely not a problem with pip.\n",
      "\n",
      "[notice] A new release of pip is available: 24.3.1 -> 25.1.1\n",
      "[notice] To update, run: python.exe -m pip install --upgrade pip\n",
      "error: subprocess-exited-with-error\n",
      "\n",
      "× pip subprocess to install build dependencies did not run successfully.\n",
      "│ exit code: 1\n",
      "╰─> See above for output.\n",
      "\n",
      "note: This error originates from a subprocess, and is likely not a problem with pip.\n"
     ]
    },
    {
     "name": "stdout",
     "output_type": "stream",
     "text": [
      "Collecting chatterbot_corpus\n",
      "  Using cached chatterbot_corpus-1.2.2-py2.py3-none-any.whl.metadata (1.1 kB)\n",
      "Using cached chatterbot_corpus-1.2.2-py2.py3-none-any.whl (240 kB)\n",
      "Installing collected packages: chatterbot_corpus\n",
      "Successfully installed chatterbot_corpus-1.2.2\n"
     ]
    },
    {
     "name": "stderr",
     "output_type": "stream",
     "text": [
      "\n",
      "[notice] A new release of pip is available: 24.3.1 -> 25.1.1\n",
      "[notice] To update, run: python.exe -m pip install --upgrade pip\n",
      "\n",
      "Usage:   \n",
      "  pip install [options] <requirement specifier> [package-index-options] ...\n",
      "  pip install [options] -r <requirements file> [package-index-options] ...\n",
      "  pip install [options] [-e] <vcs project url> ...\n",
      "  pip install [options] [-e] <local project path> ...\n",
      "  pip install [options] <archive url/path> ...\n",
      "\n",
      "no such option: -y\n"
     ]
    }
   ],
   "source": [
    "!pip uninstall -y chatterbot\n",
    "!pip uninstall -y chatterbot_corpus\n",
    "!pip install git+https://github.com/gunthercox/ChatterBot.git@master\n",
    "!pip install chatterbot_corpus\n",
    "!pip install -y chatterbot"
   ]
  },
  {
   "cell_type": "code",
   "execution_count": null,
   "id": "4fdf3292",
   "metadata": {},
   "outputs": [],
   "source": [
    "from chatterbot import ChatBot\n",
    "from chatterbot.trainers import ListTrainer"
   ]
  },
  {
   "cell_type": "code",
   "execution_count": null,
   "id": "d87a4aca",
   "metadata": {},
   "outputs": [],
   "source": [
    "bankBot = ChatBot(\n",
    "name='BankBot',\n",
    "read_only=True,\n",
    "logic_adapters=[\n",
    "'chatterbot.logic.BestMatch'\n",
    "]\n",
    ")"
   ]
  },
  {
   "cell_type": "code",
   "execution_count": 8,
   "id": "41f63f39",
   "metadata": {},
   "outputs": [],
   "source": [
    "conversation = [\n",
    "\"Hi\",\n",
    "\"Hello! I am BankBot. How can I assist you with your banking today?\",\n",
    "\"How do I open a bank account?\",\n",
    "\"You can open a bank account by visiting our branch or applying online with ID proof and address verification.\",\n",
    "\"What are your working hours?\",\n",
    "\"Our branches are open from 9 AM to 4 PM, Monday to Friday.\",\n",
    "\"How can I check my account balance?\",\n",
    "\"You can check your balance through mobile banking, internet banking, or ATM.\",\n",
    "\"How do I apply for a debit card?\",\n",
    "\"You can apply for a debit card while opening your account or request one through our mobile app.\",\n",
    "\"Thank you\",\n",
    "\"You're welcome! Let me know if you need more help.\",\n",
    "\"Bye\",\n",
    "\"Goodbye! Have a great day.\"\n",
    "]"
   ]
  },
  {
   "cell_type": "code",
   "execution_count": null,
   "id": "e06fb497",
   "metadata": {},
   "outputs": [],
   "source": [
    "trainer = ListTrainer(bankBot)\n",
    "trainer.train(conversation)\n",
    "print(\"Ask BankBot your question (type 'exit' to stop):\\n\")\n",
    "while True:\n",
    "  user_input = input(\"You: \")\n",
    "  if user_input.lower() == 'exit':\n",
    "    print(\"BankBot: Goodbye!\")\n",
    "    break\n",
    "  response = bankBot.get_response(user_input)\n",
    "  print(f\"BankBot: {response}\")"
   ]
  }
 ],
 "metadata": {
  "kernelspec": {
   "display_name": "Python 3 (ipykernel)",
   "language": "python",
   "name": "python3"
  },
  "language_info": {
   "codemirror_mode": {
    "name": "ipython",
    "version": 3
   },
   "file_extension": ".py",
   "mimetype": "text/x-python",
   "name": "python",
   "nbconvert_exporter": "python",
   "pygments_lexer": "ipython3",
   "version": "3.11.4"
  }
 },
 "nbformat": 4,
 "nbformat_minor": 5
}

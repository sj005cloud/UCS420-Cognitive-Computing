{
 "cells": [
  {
   "cell_type": "code",
   "execution_count": 1,
   "id": "eccedbba",
   "metadata": {},
   "outputs": [],
   "source": [
    "import tkinter as tk\n",
    "from tkinter import scrolledtext\n",
    "\n",
    "responses = {\n",
    "    \"hi\": \"Hello! I am HealthBot. How can I assist you today?\",\n",
    "    \"hello\": \"Hi! Do you have a health-related question?\",\n",
    "    \"i have a headache\": \"You should rest, stay hydrated, and take a mild pain reliever if needed.\",\n",
    "    \"what should i do if i have a fever?\": \"Drink plenty of fluids and rest. If the fever persists, please consult a doctor.\",\n",
    "    \"i feel dizzy\": \"Sit down, breathe deeply, and drink water. If it continues, seek medical help.\",\n",
    "    \"what should i eat for a cold?\": \"Warm fluids, soups, citrus fruits, and light meals help during a cold.\",\n",
    "    \"how to stay healthy?\": \"Eat balanced meals, exercise regularly, stay hydrated, and get enough sleep.\",\n",
    "    \"what should i do in case of a cut?\": \"Clean the wound with water, apply antiseptic, and cover it with a clean bandage.\",\n",
    "    \"how much water should i drink daily?\": \"Generally, 2 to 3 liters per day is recommended, but it varies based on your activity.\",\n",
    "    \"thank you\": \"You’re welcome! Take care.\",\n",
    "    \"bye\": \"Goodbye! Stay healthy.\"\n",
    "}\n",
    "\n",
    "root = tk.Tk()\n",
    "root.title(\"HealthBot\")\n",
    "\n",
    "chat_area = scrolledtext.ScrolledText(root, wrap=tk.WORD, width=50, height=20, font=(\"Arial\", 12))\n",
    "chat_area.pack(padx=10, pady=10)\n",
    "chat_area.config(state='disabled')\n",
    "\n",
    "user_input = tk.Entry(root, width=40, font=(\"Arial\", 12))\n",
    "user_input.pack(padx=10, pady=5, side=tk.LEFT)\n",
    "\n",
    "def send_message():\n",
    "    message = user_input.get().strip().lower()\n",
    "    if message:\n",
    "        chat_area.config(state='normal')\n",
    "        chat_area.insert(tk.END, \"You: \" + message + \"\\n\")\n",
    "        \n",
    "        reply = responses.get(message, \"I'm sorry, I can assist with basic health tips. Please ask another question.\")\n",
    "        chat_area.insert(tk.END, \"HealthBot: \" + reply + \"\\n\\n\")\n",
    "        \n",
    "        chat_area.config(state='disabled')\n",
    "        chat_area.yview(tk.END)\n",
    "        \n",
    "        user_input.delete(0, tk.END)\n",
    "        \n",
    "        if message == \"bye\":\n",
    "            root.after(2000, root.destroy)\n",
    "\n",
    "send_button = tk.Button(root, text=\"Send\", command=send_message, font=(\"Arial\", 12))\n",
    "send_button.pack(padx=10, pady=5, side=tk.LEFT)\n",
    "\n",
    "chat_area.config(state='normal')\n",
    "chat_area.insert(tk.END, \"HealthBot: Hello! I am HealthBot. How can I assist you today?\\n\\n\")\n",
    "chat_area.config(state='disabled')\n",
    "\n",
    "root.bind('<Return>', lambda event: send_message())\n",
    "\n",
    "root.mainloop()\n"
   ]
  }
 ],
 "metadata": {
  "kernelspec": {
   "display_name": "Python 3 (ipykernel)",
   "language": "python",
   "name": "python3"
  },
  "language_info": {
   "codemirror_mode": {
    "name": "ipython",
    "version": 3
   },
   "file_extension": ".py",
   "mimetype": "text/x-python",
   "name": "python",
   "nbconvert_exporter": "python",
   "pygments_lexer": "ipython3",
   "version": "3.11.4"
  }
 },
 "nbformat": 4,
 "nbformat_minor": 5
}

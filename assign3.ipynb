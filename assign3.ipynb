{
 "cells": [
  {
   "cell_type": "code",
   "execution_count": 2,
   "metadata": {},
   "outputs": [
    {
     "name": "stdout",
     "output_type": "stream",
     "text": [
      "   Tid Refund Marital_status Taxable_income Cheat\n",
      "0    1    Yes         single            25K    no\n",
      "1    2     No        married           100K    no\n",
      "2    3     No         single            70K    no\n",
      "3    4    Yes        married           120K    no\n",
      "4    5     No       divorced            95K   yes\n",
      "5    6     No        married            60K    no\n",
      "6    7    Yes       divorced           220K    no\n",
      "7    8     No         single            85K   yes\n",
      "8    9     No        married            75K    no\n",
      "9   10     No         single            90K   yes\n"
     ]
    }
   ],
   "source": [
    "import pandas as pd\n",
    "data = {\n",
    "    'Tid': range(1, 11),\n",
    "    'Refund': ['Yes','No','No','Yes','No','No','Yes','No','No','No'],\n",
    "    'Marital_status': ['single','married','single','married','divorced','married','divorced','single','married','single'],\n",
    "    'Taxable_income': ['25K','100K','70K','120K','95K','60K','220K','85K','75K','90K'],\n",
    "    'Cheat': ['no','no','no','no','yes','no','no','yes','no','yes']\n",
    "}\n",
    "df = pd.DataFrame(data)\n",
    "print(df)\n"
   ]
  },
  {
   "cell_type": "code",
   "execution_count": 3,
   "metadata": {},
   "outputs": [
    {
     "name": "stdout",
     "output_type": "stream",
     "text": [
      "   Tid Refund Marital_status Taxable_income Cheat\n",
      "0    1    Yes         single            25K    no\n",
      "4    5     No       divorced            95K   yes\n",
      "7    8     No         single            85K   yes\n",
      "8    9     No        married            75K    no\n"
     ]
    }
   ],
   "source": [
    "rows = df.iloc[[0, 4, 7, 8]]\n",
    "print(rows)"
   ]
  },
  {
   "cell_type": "code",
   "execution_count": 4,
   "metadata": {},
   "outputs": [
    {
     "name": "stdout",
     "output_type": "stream",
     "text": [
      "Rows from index 3 to 7:\n",
      "   Tid Refund Marital_status Taxable_income Cheat\n",
      "3    4    Yes        married           120K    no\n",
      "4    5     No       divorced            95K   yes\n",
      "5    6     No        married            60K    no\n",
      "6    7    Yes       divorced           220K    no\n",
      "7    8     No         single            85K   yes\n"
     ]
    }
   ],
   "source": [
    "selection1 = df.iloc[3:8]\n",
    "print(\"Rows from index 3 to 7:\")\n",
    "print(selection1)\n"
   ]
  },
  {
   "cell_type": "code",
   "execution_count": 5,
   "metadata": {},
   "outputs": [
    {
     "name": "stdout",
     "output_type": "stream",
     "text": [
      "row from index 4 to 8, and column 2 to 4.:\n",
      "  Marital_status Taxable_income Cheat\n",
      "4       divorced            95K   yes\n",
      "5        married            60K    no\n",
      "6       divorced           220K    no\n",
      "7         single            85K   yes\n",
      "8        married            75K    no\n"
     ]
    }
   ],
   "source": [
    "selection2 = df.iloc[4:9, 2:5]\n",
    "print('row from index 4 to 8, and column 2 to 4.:')\n",
    "print(selection2)"
   ]
  },
  {
   "cell_type": "code",
   "execution_count": 6,
   "metadata": {},
   "outputs": [
    {
     "name": "stdout",
     "output_type": "stream",
     "text": [
      "All rows with columns from index 1 to 3:\n",
      "  Refund Marital_status Taxable_income\n",
      "0    Yes         single            25K\n",
      "1     No        married           100K\n",
      "2     No         single            70K\n",
      "3    Yes        married           120K\n",
      "4     No       divorced            95K\n",
      "5     No        married            60K\n",
      "6    Yes       divorced           220K\n",
      "7     No         single            85K\n",
      "8     No        married            75K\n",
      "9     No         single            90K\n"
     ]
    }
   ],
   "source": [
    "selection3 = df.iloc[:, 1:4]\n",
    "print(\"All rows with columns from index 1 to 3:\")\n",
    "print(selection3)\n"
   ]
  },
  {
   "cell_type": "code",
   "execution_count": 7,
   "metadata": {},
   "outputs": [
    {
     "name": "stdout",
     "output_type": "stream",
     "text": [
      "the file has been created successfully\n"
     ]
    }
   ],
   "source": [
    "import pandas as pd\n",
    "data = {\n",
    "    'Employee_ID': [101, 102, 103, 104, 105],\n",
    "    'Name': ['Alice', 'Bob', 'Charlie', 'Diana', 'Edward'],\n",
    "    'Department': ['HR', 'IT', 'IT', 'Marketing', 'Sales'],\n",
    "    'Age': [29, 34, 41, 28, 38],\n",
    "    'Salary': [50000, 70000, 65000, 55000, 60000],\n",
    "    'Years_of_Experience': [4, 8, 10, 3, 12],\n",
    "    'Joining_Date': ['2020-03-15', '2017-07-19', '2013-06-01', '2021-02-10', '2010-11-25'],\n",
    "    'Gender': ['Female', 'Male', 'Male', 'Female', 'Male'],\n",
    "    'Bonus': [5000, 7000, 6000, 4500, 5000],\n",
    "    'Rating': [4.5, 4.0, 3.8, 4.7, 3.5]\n",
    "}\n",
    "df = pd.DataFrame(data)\n",
    "df.to_csv('employees.csv', index=False)\n",
    "print(\"the file has been created successfully\")\n"
   ]
  },
  {
   "cell_type": "code",
   "execution_count": 10,
   "metadata": {},
   "outputs": [
    {
     "name": "stdout",
     "output_type": "stream",
     "text": [
      "(a) Shape of the DataFrame:\n",
      "Number of rows: 5\n",
      "Number of columns: 10\n"
     ]
    }
   ],
   "source": [
    "print(\"(a) Shape of the DataFrame:\")\n",
    "print(\"Number of rows:\",len(df))\n",
    "print(\"Number of columns:\",len(df.columns))\n"
   ]
  },
  {
   "cell_type": "code",
   "execution_count": 9,
   "metadata": {},
   "outputs": [
    {
     "name": "stdout",
     "output_type": "stream",
     "text": [
      "(b) Summary of the DataFrame:\n",
      "<class 'pandas.core.frame.DataFrame'>\n",
      "RangeIndex: 5 entries, 0 to 4\n",
      "Data columns (total 10 columns):\n",
      " #   Column               Non-Null Count  Dtype  \n",
      "---  ------               --------------  -----  \n",
      " 0   Employee_ID          5 non-null      int64  \n",
      " 1   Name                 5 non-null      object \n",
      " 2   Department           5 non-null      object \n",
      " 3   Age                  5 non-null      int64  \n",
      " 4   Salary               5 non-null      int64  \n",
      " 5   Years_of_Experience  5 non-null      int64  \n",
      " 6   Joining_Date         5 non-null      object \n",
      " 7   Gender               5 non-null      object \n",
      " 8   Bonus                5 non-null      int64  \n",
      " 9   Rating               5 non-null      float64\n",
      "dtypes: float64(1), int64(5), object(4)\n",
      "memory usage: 532.0+ bytes\n",
      "None\n"
     ]
    }
   ],
   "source": [
    "print(\"(b) Summary of the DataFrame:\")\n",
    "print(df.info())\n"
   ]
  },
  {
   "cell_type": "code",
   "execution_count": 11,
   "metadata": {},
   "outputs": [
    {
     "name": "stdout",
     "output_type": "stream",
     "text": [
      "(c) Descriptive Statistics:\n",
      "       Employee_ID        Age       Salary  Years_of_Experience   Bonus  \\\n",
      "count     5.000000   5.000000      5.00000             5.000000     5.0   \n",
      "mean    103.000000  34.000000  60000.00000             7.400000  5500.0   \n",
      "std       1.581139   5.612486   7905.69415             3.847077  1000.0   \n",
      "min     101.000000  28.000000  50000.00000             3.000000  4500.0   \n",
      "25%     102.000000  29.000000  55000.00000             4.000000  5000.0   \n",
      "50%     103.000000  34.000000  60000.00000             8.000000  5000.0   \n",
      "75%     104.000000  38.000000  65000.00000            10.000000  6000.0   \n",
      "max     105.000000  41.000000  70000.00000            12.000000  7000.0   \n",
      "\n",
      "         Rating  \n",
      "count  5.000000  \n",
      "mean   4.100000  \n",
      "std    0.494975  \n",
      "min    3.500000  \n",
      "25%    3.800000  \n",
      "50%    4.000000  \n",
      "75%    4.500000  \n",
      "max    4.700000  \n"
     ]
    }
   ],
   "source": [
    "print(\"(c) Descriptive Statistics:\")\n",
    "print(df.describe())"
   ]
  },
  {
   "cell_type": "code",
   "execution_count": 12,
   "metadata": {},
   "outputs": [
    {
     "name": "stdout",
     "output_type": "stream",
     "text": [
      "(d) First 5 rows of the dataset:\n",
      "   Employee_ID     Name Department  Age  Salary  Years_of_Experience  \\\n",
      "0          101    Alice         HR   29   50000                    4   \n",
      "1          102      Bob         IT   34   70000                    8   \n",
      "2          103  Charlie         IT   41   65000                   10   \n",
      "3          104    Diana  Marketing   28   55000                    3   \n",
      "4          105   Edward      Sales   38   60000                   12   \n",
      "\n",
      "  Joining_Date  Gender  Bonus  Rating  \n",
      "0   2020-03-15  Female   5000     4.5  \n",
      "1   2017-07-19    Male   7000     4.0  \n",
      "2   2013-06-01    Male   6000     3.8  \n",
      "3   2021-02-10  Female   4500     4.7  \n",
      "4   2010-11-25    Male   5000     3.5  \n",
      "(d) Last 3 rows of the dataset:\n",
      "   Employee_ID     Name Department  Age  Salary  Years_of_Experience  \\\n",
      "2          103  Charlie         IT   41   65000                   10   \n",
      "3          104    Diana  Marketing   28   55000                    3   \n",
      "4          105   Edward      Sales   38   60000                   12   \n",
      "\n",
      "  Joining_Date  Gender  Bonus  Rating  \n",
      "2   2013-06-01    Male   6000     3.8  \n",
      "3   2021-02-10  Female   4500     4.7  \n",
      "4   2010-11-25    Male   5000     3.5  \n"
     ]
    }
   ],
   "source": [
    "print(\"(d) First 5 rows of the dataset:\")\n",
    "print(df[:5])  \n",
    "print(\"(d) Last 3 rows of the dataset:\")\n",
    "print(df[-3:])  \n"
   ]
  },
  {
   "cell_type": "code",
   "execution_count": 13,
   "metadata": {},
   "outputs": [
    {
     "name": "stdout",
     "output_type": "stream",
     "text": [
      "i. Average salary: 60000.0\n",
      "ii. Total bonus paid: 27500\n",
      "iii. Youngest employee's age: 28\n",
      "iv. Highest performance rating: 4.7\n"
     ]
    }
   ],
   "source": [
    "print(\"i. Average salary:\",df['Salary'].mean())\n",
    "print(\"ii. Total bonus paid:\",df['Bonus'].sum())\n",
    "print(\"iii. Youngest employee's age:\",df['Age'].min())\n",
    "print(\"iv. Highest performance rating:\",df['Rating'].max())\n"
   ]
  },
  {
   "cell_type": "code",
   "execution_count": 14,
   "metadata": {},
   "outputs": [
    {
     "name": "stdout",
     "output_type": "stream",
     "text": [
      "(f) Sorted DataFrame by Salary (descending):\n",
      "   Employee_ID     Name Department  Age  Salary  Years_of_Experience  \\\n",
      "1          102      Bob         IT   34   70000                    8   \n",
      "2          103  Charlie         IT   41   65000                   10   \n",
      "4          105   Edward      Sales   38   60000                   12   \n",
      "3          104    Diana  Marketing   28   55000                    3   \n",
      "0          101    Alice         HR   29   50000                    4   \n",
      "\n",
      "  Joining_Date  Gender  Bonus  Rating  \n",
      "1   2017-07-19    Male   7000     4.0  \n",
      "2   2013-06-01    Male   6000     3.8  \n",
      "4   2010-11-25    Male   5000     3.5  \n",
      "3   2021-02-10  Female   4500     4.7  \n",
      "0   2020-03-15  Female   5000     4.5  \n"
     ]
    }
   ],
   "source": [
    "print(\"(f) Sorted DataFrame by Salary (descending):\")\n",
    "sorted_df = df.sort_values(by='Salary', ascending=True)\n",
    "sorted_df = sorted_df[::-1] \n",
    "print(sorted_df)\n",
    "\n"
   ]
  },
  {
   "cell_type": "code",
   "execution_count": 15,
   "metadata": {},
   "outputs": [
    {
     "name": "stdout",
     "output_type": "stream",
     "text": [
      "(g) Categorizing employees based on performance rating:\n",
      "      Name  Rating Performance_Category\n",
      "0    Alice     4.5            Excellent\n",
      "1      Bob     4.0                 Good\n",
      "2  Charlie     3.8              Average\n",
      "3    Diana     4.7            Excellent\n",
      "4   Edward     3.5              Average\n"
     ]
    }
   ],
   "source": [
    "print(\"(g) Categorizing employees based on performance rating:\")\n",
    "def categorize_performance(rating):\n",
    "    if rating >= 4.5:\n",
    "        return 'Excellent'\n",
    "    elif rating >= 4.0:\n",
    "        return 'Good'\n",
    "    else:\n",
    "        return 'Average'\n",
    "\n",
    "df['Performance_Category'] = df['Rating'].apply(categorize_performance)\n",
    "print(df[['Name', 'Rating', 'Performance_Category']])\n"
   ]
  },
  {
   "cell_type": "code",
   "execution_count": 16,
   "metadata": {},
   "outputs": [
    {
     "name": "stdout",
     "output_type": "stream",
     "text": [
      "(h) Missing values in the DataFrame:\n",
      "Employee_ID             0\n",
      "Name                    0\n",
      "Department              0\n",
      "Age                     0\n",
      "Salary                  0\n",
      "Years_of_Experience     0\n",
      "Joining_Date            0\n",
      "Gender                  0\n",
      "Bonus                   0\n",
      "Rating                  0\n",
      "Performance_Category    0\n",
      "dtype: int64\n"
     ]
    }
   ],
   "source": [
    "print(\"(h) Missing values in the DataFrame:\")\n",
    "print(df.isnull().sum())\n"
   ]
  },
  {
   "cell_type": "code",
   "execution_count": 17,
   "metadata": {},
   "outputs": [
    {
     "name": "stdout",
     "output_type": "stream",
     "text": [
      "(i) Renamed Employee_ID column to ID:\n",
      "    ID     Name Department  Age  Salary  Years_of_Experience Joining_Date  \\\n",
      "0  101    Alice         HR   29   50000                    4   2020-03-15   \n",
      "1  102      Bob         IT   34   70000                    8   2017-07-19   \n",
      "2  103  Charlie         IT   41   65000                   10   2013-06-01   \n",
      "3  104    Diana  Marketing   28   55000                    3   2021-02-10   \n",
      "4  105   Edward      Sales   38   60000                   12   2010-11-25   \n",
      "\n",
      "   Gender  Bonus  Rating Performance_Category  \n",
      "0  Female   5000     4.5            Excellent  \n",
      "1    Male   7000     4.0                 Good  \n",
      "2    Male   6000     3.8              Average  \n",
      "3  Female   4500     4.7            Excellent  \n",
      "4    Male   5000     3.5              Average  \n"
     ]
    }
   ],
   "source": [
    "print(\"(i) Renamed Employee_ID column to ID:\")\n",
    "df = df.rename(columns={'Employee_ID': 'ID'})\n",
    "print(df)"
   ]
  },
  {
   "cell_type": "code",
   "execution_count": 18,
   "metadata": {},
   "outputs": [
    {
     "name": "stdout",
     "output_type": "stream",
     "text": [
      "Employees with more than 5 years of experience:     ID     Name Department  Age  Salary  Years_of_Experience Joining_Date  \\\n",
      "1  102      Bob         IT   34   70000                    8   2017-07-19   \n",
      "2  103  Charlie         IT   41   65000                   10   2013-06-01   \n",
      "4  105   Edward      Sales   38   60000                   12   2010-11-25   \n",
      "\n",
      "  Gender  Bonus  Rating Performance_Category  \n",
      "1   Male   7000     4.0                 Good  \n",
      "2   Male   6000     3.8              Average  \n",
      "4   Male   5000     3.5              Average  \n",
      "Employees in the IT department:     ID     Name Department  Age  Salary  Years_of_Experience Joining_Date  \\\n",
      "1  102      Bob         IT   34   70000                    8   2017-07-19   \n",
      "2  103  Charlie         IT   41   65000                   10   2013-06-01   \n",
      "\n",
      "  Gender  Bonus  Rating Performance_Category  \n",
      "1   Male   7000     4.0                 Good  \n",
      "2   Male   6000     3.8              Average  \n"
     ]
    }
   ],
   "source": [
    "print(\"Employees with more than 5 years of experience:\",df[df['Years_of_Experience'] > 5])\n",
    "print(\"Employees in the IT department:\",df[df['Department'] == 'IT'])\n"
   ]
  },
  {
   "cell_type": "code",
   "execution_count": 19,
   "metadata": {},
   "outputs": [
    {
     "name": "stdout",
     "output_type": "stream",
     "text": [
      "(k) Adding a Tax column (10% of Salary):\n",
      "      Name  Salary     Tax\n",
      "0    Alice   50000  5000.0\n",
      "1      Bob   70000  7000.0\n",
      "2  Charlie   65000  6500.0\n",
      "3    Diana   55000  5500.0\n",
      "4   Edward   60000  6000.0\n"
     ]
    }
   ],
   "source": [
    "print(\"(k) Adding a Tax column (10% of Salary):\")\n",
    "df['Tax'] = df['Salary'] * 0.10\n",
    "print(df[['Name', 'Salary', 'Tax']])\n"
   ]
  },
  {
   "cell_type": "code",
   "execution_count": 20,
   "metadata": {},
   "outputs": [
    {
     "name": "stdout",
     "output_type": "stream",
     "text": [
      "The modified dataset has been saved as 'modified_employees.csv'\n"
     ]
    }
   ],
   "source": [
    "df.to_csv('modified_employees.csv', index=False)\n",
    "print(\"The modified dataset has been saved as 'modified_employees.csv'\")\n"
   ]
  }
 ],
 "metadata": {
  "kernelspec": {
   "display_name": "Python 3",
   "language": "python",
   "name": "python3"
  },
  "language_info": {
   "codemirror_mode": {
    "name": "ipython",
    "version": 3
   },
   "file_extension": ".py",
   "mimetype": "text/x-python",
   "name": "python",
   "nbconvert_exporter": "python",
   "pygments_lexer": "ipython3",
   "version": "3.11.9"
  }
 },
 "nbformat": 4,
 "nbformat_minor": 2
}

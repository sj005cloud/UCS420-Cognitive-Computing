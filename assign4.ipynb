{
 "cells": [
  {
   "cell_type": "code",
   "execution_count": 1,
   "metadata": {},
   "outputs": [
    {
     "name": "stdout",
     "output_type": "stream",
     "text": [
      "Original array: [1 2 3 4 5]\n"
     ]
    }
   ],
   "source": [
    "import numpy as np\n",
    "arr = np.array([1, 2, 3, 4, 5])\n",
    "print(\"Original array:\", arr)"
   ]
  },
  {
   "cell_type": "code",
   "execution_count": 2,
   "metadata": {},
   "outputs": [
    {
     "name": "stdout",
     "output_type": "stream",
     "text": [
      "Array after adding 2 to each element: [3 4 5 6 7]\n",
      "Array after multiplying each element by 3: [ 3  6  9 12 15]\n",
      "Array after dividing each element by 2: [0.5 1.  1.5 2.  2.5]\n"
     ]
    }
   ],
   "source": [
    "print(\"Array after adding 2 to each element:\", arr+2)\n",
    "print(\"Array after multiplying each element by 3:\", arr*3)\n",
    "print(\"Array after dividing each element by 2:\", arr/2)"
   ]
  },
  {
   "cell_type": "code",
   "execution_count": 3,
   "metadata": {},
   "outputs": [
    {
     "name": "stdout",
     "output_type": "stream",
     "text": [
      "Reversed array: [5 4 6 3 2 1]\n"
     ]
    }
   ],
   "source": [
    "import numpy as np\n",
    "arr = np.array([1, 2, 3, 6, 4, 5])\n",
    "reversed_arr = np.flip(arr)\n",
    "print(\"Reversed array:\", reversed_arr)"
   ]
  },
  {
   "cell_type": "code",
   "execution_count": 4,
   "metadata": {},
   "outputs": [
    {
     "name": "stdout",
     "output_type": "stream",
     "text": [
      "For array x: Most frequent value is 1 at indices [0 5 7 8 9]\n",
      "For array y: Most frequent value is 1 at indices [0 1 2]\n"
     ]
    }
   ],
   "source": [
    "import numpy as np\n",
    "x = np.array([1, 2, 3, 4, 5, 1, 2, 1, 1, 1])\n",
    "y = np.array([1, 1, 1, 2, 3, 4, 2, 4, 3, 3])\n",
    "\n",
    "def most_frequent(arr):\n",
    "    values, counts = np.unique(arr, return_counts=True)\n",
    "    most_frequent = values[np.argmax(counts)]\n",
    "    \n",
    "    indices = np.where(arr == most_frequent)[0]\n",
    "    return most_frequent, indices\n",
    "\n",
    "most_frequent_x, indices_x = most_frequent(x)\n",
    "print(\"For array x: Most frequent value is\",most_frequent_x,\"at indices\",indices_x)\n",
    "\n",
    "most_frequent_y, indices_y = most_frequent(y)\n",
    "print(\"For array y: Most frequent value is\",most_frequent_y, \"at indices\",indices_y)\n"
   ]
  },
  {
   "cell_type": "code",
   "execution_count": 5,
   "metadata": {},
   "outputs": [
    {
     "name": "stdout",
     "output_type": "stream",
     "text": [
      "Array: [ 10.    13.75  17.5   21.25  25.    28.75  32.5   36.25  40.    43.75\n",
      "  47.5   51.25  55.    58.75  62.5   66.25  70.    73.75  77.5   81.25\n",
      "  85.    88.75  92.5   96.25 100.  ]\n",
      "Dimensions: 1\n",
      "Shape: (25,)\n",
      "Total elements: 25\n",
      "Data type of each element: float64\n",
      "Total bytes consumed by the array: 200\n",
      "Transposed array using reshape():\n",
      " [[ 10.  ]\n",
      " [ 13.75]\n",
      " [ 17.5 ]\n",
      " [ 21.25]\n",
      " [ 25.  ]\n",
      " [ 28.75]\n",
      " [ 32.5 ]\n",
      " [ 36.25]\n",
      " [ 40.  ]\n",
      " [ 43.75]\n",
      " [ 47.5 ]\n",
      " [ 51.25]\n",
      " [ 55.  ]\n",
      " [ 58.75]\n",
      " [ 62.5 ]\n",
      " [ 66.25]\n",
      " [ 70.  ]\n",
      " [ 73.75]\n",
      " [ 77.5 ]\n",
      " [ 81.25]\n",
      " [ 85.  ]\n",
      " [ 88.75]\n",
      " [ 92.5 ]\n",
      " [ 96.25]\n",
      " [100.  ]]\n",
      "Transposed array using T attribute:\n",
      " [ 10.    13.75  17.5   21.25  25.    28.75  32.5   36.25  40.    43.75\n",
      "  47.5   51.25  55.    58.75  62.5   66.25  70.    73.75  77.5   81.25\n",
      "  85.    88.75  92.5   96.25 100.  ]\n"
     ]
    }
   ],
   "source": [
    "import numpy as np\n",
    "your_name = np.linspace(10, 100, 25)\n",
    "\n",
    "print(\"Array:\", your_name)\n",
    "\n",
    "print(\"Dimensions:\", your_name.ndim)\n",
    "\n",
    "print(\"Shape:\", your_name.shape)\n",
    "\n",
    "print(\"Total elements:\", your_name.size)\n",
    "\n",
    "print(\"Data type of each element:\", your_name.dtype)\n",
    "\n",
    "print(\"Total bytes consumed by the array:\", your_name.nbytes)\n",
    "\n",
    "transposed_array = your_name.reshape((25, 1))\n",
    "print(\"Transposed array using reshape():\\n\", transposed_array)\n",
    "\n",
    "transposed_array_t = your_name.T\n",
    "print(\"Transposed array using T attribute:\\n\", transposed_array_t)\n"
   ]
  },
  {
   "cell_type": "code",
   "execution_count": 8,
   "metadata": {},
   "outputs": [
    {
     "name": "stdout",
     "output_type": "stream",
     "text": [
      "Mean: 43.333333333333336\n",
      "Median: 37.5\n",
      "Max: 90\n",
      "Min: 10\n",
      "Unique elements: [10 15 20 30 35 40 50 60 70 80 90]\n",
      "\n",
      "Reshaped array to 3 rows and 4 columns:\n",
      " [[10 20 30 40]\n",
      " [50 60 70 80]\n",
      " [90 15 20 35]]\n",
      "\n",
      "Resized array to 2 rows and 6 columns (in-place):\n",
      " [[10 20 30 40 50 60]\n",
      " [70 80 90 15 20 35]]\n"
     ]
    }
   ],
   "source": [
    "import numpy as np\n",
    "ucs420_name = np.array([[10, 20, 30, 40], [50, 60, 70, 80], [90, 15, 20, 35]])\n",
    "\n",
    "mean_value = np.mean(ucs420_name)\n",
    "median_value = np.median(ucs420_name)\n",
    "max_value = np.max(ucs420_name)\n",
    "min_value = np.min(ucs420_name)\n",
    "unique_elements = np.unique(ucs420_name)\n",
    "\n",
    "print(\"Mean:\", mean_value)\n",
    "print(\"Median:\", median_value)\n",
    "print(\"Max:\", max_value)\n",
    "print(\"Min:\", min_value)\n",
    "print(\"Unique elements:\", unique_elements)\n",
    "\n",
    "reshaped_ucs420_name = ucs420_name.reshape(3, 4)\n",
    "print(\"\\nReshaped array to 3 rows and 4 columns:\\n\", reshaped_ucs420_name)\n",
    "\n",
    "ucs420_name.resize((2, 6)) \n",
    "print(\"\\nResized array to 2 rows and 6 columns (in-place):\\n\", ucs420_name)\n",
    "\n"
   ]
  }
 ],
 "metadata": {
  "kernelspec": {
   "display_name": "Python 3",
   "language": "python",
   "name": "python3"
  },
  "language_info": {
   "codemirror_mode": {
    "name": "ipython",
    "version": 3
   },
   "file_extension": ".py",
   "mimetype": "text/x-python",
   "name": "python",
   "nbconvert_exporter": "python",
   "pygments_lexer": "ipython3",
   "version": "3.11.9"
  }
 },
 "nbformat": 4,
 "nbformat_minor": 2
}

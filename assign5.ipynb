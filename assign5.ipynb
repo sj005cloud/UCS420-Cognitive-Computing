{
 "cells": [
  {
   "cell_type": "code",
   "execution_count": 5,
   "metadata": {},
   "outputs": [
    {
     "name": "stdout",
     "output_type": "stream",
     "text": [
      "[[ 4  1  9]\n",
      " [12  3  1]\n",
      " [ 4  5  6]]\n"
     ]
    }
   ],
   "source": [
    "import numpy as np\n",
    "gfg = np.matrix('[4, 1, 9; 12, 3, 1; 4, 5, 6]')\n",
    "print(gfg)"
   ]
  },
  {
   "cell_type": "code",
   "execution_count": 6,
   "metadata": {},
   "outputs": [
    {
     "name": "stdout",
     "output_type": "stream",
     "text": [
      "Sum of all elements: 45\n",
      "Sum of all elements row-wise: [[14]\n",
      " [16]\n",
      " [15]]\n",
      "Sum of all elements column-wise: [[20  9 16]]\n"
     ]
    }
   ],
   "source": [
    "print(\"Sum of all elements:\",  np.sum(gfg))\n",
    "print(\"Sum of all elements row-wise:\",np.sum(gfg, axis=1))\n",
    "print(\"Sum of all elements column-wise:\",np.sum(gfg, axis=0))"
   ]
  },
  {
   "cell_type": "code",
   "execution_count": 7,
   "metadata": {},
   "outputs": [
    {
     "name": "stdout",
     "output_type": "stream",
     "text": [
      "Sorted array: [ 10  16  16  52  54  62 453]\n",
      "Indices of sorted array: [0 3 4 1 5 2 6]\n",
      "4 smallest elements: [10 16 16 52]\n",
      "5 largest elements: [ 16  52  54  62 453]\n"
     ]
    }
   ],
   "source": [
    "import numpy as np\n",
    "array = np.array([10, 52, 62, 16, 16, 54, 453])\n",
    "\n",
    "print(\"Sorted array:\",np.sort(array))\n",
    "print(\"Indices of sorted array:\", np.argsort(array))\n",
    "print(\"4 smallest elements:\",np.sort(array)[:4])\n",
    "print(\"5 largest elements:\",np.sort(array)[-5:])\n"
   ]
  },
  {
   "cell_type": "code",
   "execution_count": 8,
   "metadata": {},
   "outputs": [
    {
     "name": "stdout",
     "output_type": "stream",
     "text": [
      "Integer elements only: [1. 2. 3. 2.]\n",
      "Float elements only: [1.2 2.2]\n"
     ]
    }
   ],
   "source": [
    "import numpy as np\n",
    "array = np.array([1.0, 1.2, 2.2, 2.0, 3.0, 2.0])\n",
    "\n",
    "print(\"Integer elements only:\",array[array.astype(int) == array])\n",
    "print(\"Float elements only:\", array[array.astype(int) != array])\n"
   ]
  },
  {
   "cell_type": "code",
   "execution_count": 10,
   "metadata": {},
   "outputs": [
    {
     "name": "stdout",
     "output_type": "stream",
     "text": [
      "Sum of ASCII values (X): 157\n",
      "sales dataset: [157 207 257 307 357]\n"
     ]
    }
   ],
   "source": [
    "import numpy as np\n",
    "\n",
    "initials = \"S J\"\n",
    "ascii_sum = sum(ord(char) for char in initials if char != ' ')  # Ignore spaces\n",
    "X = ascii_sum  \n",
    "\n",
    "sales = np.array([X, X + 50, X + 100, X + 150, X + 200])\n",
    "\n",
    "print(\"Sum of ASCII values (X):\", X)\n",
    "print(\"sales dataset:\", sales)\n"
   ]
  },
  {
   "cell_type": "code",
   "execution_count": 13,
   "metadata": {},
   "outputs": [
    {
     "name": "stdout",
     "output_type": "stream",
     "text": [
      "Tax rate: 0.07\n",
      "Sales with tax applied: [167.99 221.49 274.99 328.49 381.99]\n"
     ]
    }
   ],
   "source": [
    "\n",
    "tax_rate = ((X % 5) + 5) / 100\n",
    "sales = np.array([X, X + 50, X + 100, X + 150, X + 200])\n",
    "sales_with_tax = sales * (1 + tax_rate)\n",
    "\n",
    "print(\"Tax rate:\", tax_rate)\n",
    "print(\"Sales with tax applied:\", sales_with_tax)\n"
   ]
  },
  {
   "cell_type": "code",
   "execution_count": 14,
   "metadata": {},
   "outputs": [
    {
     "name": "stdout",
     "output_type": "stream",
     "text": [
      "Discounted sales: [159.5905 210.4155 247.491  295.641  343.791 ]\n"
     ]
    }
   ],
   "source": [
    "discounted_sales = np.where(sales_with_tax < (X + 100), sales_with_tax * 0.95, sales_with_tax * 0.90)\n",
    "print(\"Discounted sales:\", discounted_sales)\n"
   ]
  },
  {
   "cell_type": "code",
   "execution_count": 15,
   "metadata": {},
   "outputs": [
    {
     "name": "stdout",
     "output_type": "stream",
     "text": [
      "Sales matrix for 3 weeks (before increase):\n",
      "[[159.5905 210.4155 247.491  295.641  343.791 ]\n",
      " [159.5905 210.4155 247.491  295.641  343.791 ]\n",
      " [159.5905 210.4155 247.491  295.641  343.791 ]]\n",
      "Sales matrix for 3 weeks (after 2% increase per week):\n",
      "[[159.5905  210.4155  247.491   295.641   343.791  ]\n",
      " [162.78231 214.62381 252.44082 301.55382 350.66682]\n",
      " [165.97412 218.83212 257.39064 307.46664 357.54264]]\n"
     ]
    }
   ],
   "source": [
    "weekly_sales = np.tile(discounted_sales, (3, 1))  \n",
    "\n",
    "# Increase sales by 2% per week using broadcasting\n",
    "weeks = np.arange(3)  \n",
    "sales_with_increase = weekly_sales * (1 + 0.02 * weeks[:, np.newaxis])  \n",
    "\n",
    "print(\"Sales matrix for 3 weeks (before increase):\")\n",
    "print(weekly_sales)\n",
    "print(\"Sales matrix for 3 weeks (after 2% increase per week):\")\n",
    "print(sales_with_increase)\n"
   ]
  }
 ],
 "metadata": {
  "kernelspec": {
   "display_name": "Python 3 (ipykernel)",
   "language": "python",
   "name": "python3"
  },
  "language_info": {
   "codemirror_mode": {
    "name": "ipython",
    "version": 3
   },
   "file_extension": ".py",
   "mimetype": "text/x-python",
   "name": "python",
   "nbconvert_exporter": "python",
   "pygments_lexer": "ipython3",
   "version": "3.11.4"
  }
 },
 "nbformat": 4,
 "nbformat_minor": 2
}

{
 "cells": [
  {
   "cell_type": "code",
   "execution_count": 2,
   "metadata": {},
   "outputs": [
    {
     "name": "stdout",
     "output_type": "stream",
     "text": [
      "[10, 20, 30, 40, 50, 60, 70, 80]\n"
     ]
    }
   ],
   "source": [
    "L=[10,20,30,40,50,60,70,80]\n",
    "print(L)"
   ]
  },
  {
   "cell_type": "code",
   "execution_count": 3,
   "metadata": {},
   "outputs": [
    {
     "name": "stdout",
     "output_type": "stream",
     "text": [
      "[10, 20, 30, 40, 50, 60, 70, 80, 200]\n"
     ]
    }
   ],
   "source": [
    "L.append(200)\n",
    "print(L)"
   ]
  },
  {
   "cell_type": "code",
   "execution_count": 4,
   "metadata": {},
   "outputs": [
    {
     "name": "stdout",
     "output_type": "stream",
     "text": [
      "[10, 20, 30, 40, 50, 60, 70, 80, 200, 300]\n"
     ]
    }
   ],
   "source": [
    "L.append(300)\n",
    "print(L)"
   ]
  },
  {
   "cell_type": "code",
   "execution_count": 5,
   "metadata": {},
   "outputs": [
    {
     "name": "stdout",
     "output_type": "stream",
     "text": [
      "[20, 40, 50, 60, 70, 80, 200, 300]\n"
     ]
    }
   ],
   "source": [
    "L.remove(10)\n",
    "L.remove(30)\n",
    "print(L)"
   ]
  },
  {
   "cell_type": "code",
   "execution_count": 6,
   "metadata": {},
   "outputs": [
    {
     "name": "stdout",
     "output_type": "stream",
     "text": [
      "[20, 40, 50, 60, 70, 80, 200, 300]\n"
     ]
    }
   ],
   "source": [
    "L.sort()\n",
    "print(L)"
   ]
  },
  {
   "cell_type": "code",
   "execution_count": 7,
   "metadata": {},
   "outputs": [
    {
     "name": "stdout",
     "output_type": "stream",
     "text": [
      "[300, 200, 80, 70, 60, 50, 40, 20]\n"
     ]
    }
   ],
   "source": [
    "L.reverse()\n",
    "print(L)"
   ]
  },
  {
   "cell_type": "code",
   "execution_count": 8,
   "metadata": {},
   "outputs": [
    {
     "name": "stdout",
     "output_type": "stream",
     "text": [
      "92\n",
      "5\n"
     ]
    }
   ],
   "source": [
    "scores=(45,89.5,76,45.4,89,92,58,45)\n",
    "max_score=max(scores)\n",
    "max_score_index=scores.index(max_score)\n",
    "print(max_score)\n",
    "print(max_score_index)"
   ]
  },
  {
   "cell_type": "code",
   "execution_count": 9,
   "metadata": {},
   "outputs": [
    {
     "name": "stdout",
     "output_type": "stream",
     "text": [
      "45\n",
      "2\n"
     ]
    }
   ],
   "source": [
    "print(min(scores))\n",
    "print(scores.count(min(scores)))"
   ]
  },
  {
   "cell_type": "code",
   "execution_count": 10,
   "metadata": {},
   "outputs": [
    {
     "name": "stdout",
     "output_type": "stream",
     "text": [
      "[45, 58, 92, 89, 45.4, 76, 89.5, 45]\n"
     ]
    }
   ],
   "source": [
    "reversed_scores = list(scores[::-1])\n",
    "print(reversed_scores)\n",
    "\n"
   ]
  },
  {
   "cell_type": "code",
   "execution_count": 11,
   "metadata": {},
   "outputs": [
    {
     "name": "stdout",
     "output_type": "stream",
     "text": [
      "2\n"
     ]
    }
   ],
   "source": [
    "element=76\n",
    "if element in scores:\n",
    "    score_index=scores.index(element)\n",
    "    print(score_index)\n",
    "else:\n",
    "    print('element not found')    "
   ]
  },
  {
   "cell_type": "code",
   "execution_count": 12,
   "metadata": {},
   "outputs": [
    {
     "name": "stdout",
     "output_type": "stream",
     "text": [
      "[101, 205, 367, 453, 123, 265, 793]\n",
      "7\n",
      "[568, 534, 900]\n",
      "3\n"
     ]
    }
   ],
   "source": [
    "L=[101, 205, 367, 453, 123, 568, 534, 900, 265, 793]\n",
    "odd_numbers=[]\n",
    "even_numbers=[]\n",
    "prime_numbers=[]\n",
    "for num in L:\n",
    "    if num%2!=0:\n",
    "        odd_numbers.append(num)\n",
    "    else:\n",
    "        even_numbers.append(num)\n",
    "print(odd_numbers)\n",
    "print(len(odd_numbers))\n",
    "print(even_numbers) \n",
    "print(len(even_numbers))       \n",
    "\n",
    "\n",
    "\n"
   ]
  },
  {
   "cell_type": "code",
   "execution_count": 13,
   "metadata": {},
   "outputs": [
    {
     "name": "stdout",
     "output_type": "stream",
     "text": [
      "[101, 205, 367, 453, 123, 265, 793]\n",
      "7\n"
     ]
    }
   ],
   "source": [
    "def is_prime(n):\n",
    "    if n<=1:\n",
    "        return False\n",
    "    for i in range(2, int(n**0.5)+1):\n",
    "        if n%i==0:\n",
    "            return False\n",
    "        return True\n",
    "L=[101, 205, 367, 453, 123, 568, 534, 900, 265, 793]\n",
    "prime_numbers=[]\n",
    "for num in L:\n",
    "    if is_prime(num):\n",
    "        prime_numbers.append(num)\n",
    "print(prime_numbers)\n",
    "print(len(prime_numbers))            "
   ]
  },
  {
   "cell_type": "code",
   "execution_count": 14,
   "metadata": {},
   "outputs": [
    {
     "name": "stdout",
     "output_type": "stream",
     "text": [
      "{34, 45, 78, 23, 56, 90}\n",
      "{90, 78}\n",
      "{56, 34}\n",
      "False\n",
      "False\n"
     ]
    }
   ],
   "source": [
    "A={34,56,78,90}\n",
    "B={78,45,90,23}\n",
    "print(A|B)\n",
    "print(A&B)\n",
    "print(A-B)\n",
    "print(A.issubset(B))\n",
    "print(B.issuperset(A))"
   ]
  },
  {
   "cell_type": "code",
   "execution_count": null,
   "metadata": {},
   "outputs": [],
   "source": [
    "score_to_remove = int(input(\"Enter the score to remove from team A: \"))\n",
    "if score_to_remove in A:\n",
    "    A.remove(score_to_remove)\n",
    "    print(\"Score removed from team A\")\n",
    "else:\n",
    "    print(\"Score not present in team A.\")\n",
    "    \n",
    "print(A)"
   ]
  },
  {
   "cell_type": "code",
   "execution_count": 15,
   "metadata": {},
   "outputs": [
    {
     "name": "stdout",
     "output_type": "stream",
     "text": [
      "{'name': 'kelly', 'age': 25, 'salary': 8000, 'location': 'new york'}\n"
     ]
    }
   ],
   "source": [
    "sample_dict={'name':'kelly', 'age':25, 'salary':8000, 'city':'new york'}\n",
    "sample_dict['location']=sample_dict.pop('city')\n",
    "print(sample_dict)"
   ]
  }
 ],
 "metadata": {
  "kernelspec": {
   "display_name": "Python 3",
   "language": "python",
   "name": "python3"
  },
  "language_info": {
   "codemirror_mode": {
    "name": "ipython",
    "version": 3
   },
   "file_extension": ".py",
   "mimetype": "text/x-python",
   "name": "python",
   "nbconvert_exporter": "python",
   "pygments_lexer": "ipython3",
   "version": "3.11.9"
  }
 },
 "nbformat": 4,
 "nbformat_minor": 2
}
